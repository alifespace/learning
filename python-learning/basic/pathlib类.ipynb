{
 "cells": [
  {
   "cell_type": "markdown",
   "id": "8a432054",
   "metadata": {},
   "source": [
    "# 1. 核心概念：Path 对象"
   ]
  },
  {
   "cell_type": "markdown",
   "id": "efb2edc2",
   "metadata": {},
   "source": [
    "pathlib 是 Python 3.4 版本中引入的一个标准库，旨在用更现代、更直观的面向对象方法来处理文件系统路径。相比于旧的、基于字符串操作的 os.path 模块，pathlib 提供了更高的代码可读性和跨平台兼容性。\n",
    "\n",
    "pathlib 的核心是 Path 类。你不再将路径作为普通的字符串来处理，而是将它们创建为 Path 对象。这个对象包含了路径的各种信息，并提供了丰富的操作方法。"
   ]
  },
  {
   "cell_type": "markdown",
   "id": "ca4812c2",
   "metadata": {},
   "source": []
  },
  {
   "cell_type": "code",
   "execution_count": 2,
   "id": "275f817c",
   "metadata": {},
   "outputs": [],
   "source": [
    "from pathlib import Path"
   ]
  },
  {
   "cell_type": "code",
   "execution_count": 13,
   "id": "337495af",
   "metadata": {},
   "outputs": [
    {
     "name": "stdout",
     "output_type": "stream",
     "text": [
      "当前运行目录：c:\\Users\\jamesliuwj\\Prjcenter\\learning\\python-learning\\basic\n",
      "C:\\Users\\jamesliuwj\\Prjcenter\n",
      "父目录：C:\\Users\\jamesliuwj\n",
      "文件名/目录名：Prjcenter\n",
      "文件名：pathlib类\n",
      "文件后缀：.ipynb\n",
      "c:\\Users\\jamesliuwj\\Prjcenter\\learning\\python-learning\\basic\\pathlib类.ipynb exists?: True\n",
      "c:\\Users\\jamesliuwj\\Prjcenter\\learning\\python-learning\\basic\\pathlib类.ipynb is a file?: True\n",
      "c:\\Users\\jamesliuwj\\Prjcenter\\learning\\python-learning\\basic\\pathlib类.ipynb\n",
      "c:\\Users\\jamesliuwj\\Prjcenter\\learning\\python-learning\\basic\\py002_函数.ipynb\n",
      "c:\\Users\\jamesliuwj\\Prjcenter\\learning\\python-learning\\basic\\py003_闭包与装饰器.ipynb\n",
      "c:\\Users\\jamesliuwj\\Prjcenter\\learning\\python-learning\\basic\\py004_python内置数据结构.ipynb\n",
      "c:\\Users\\jamesliuwj\\Prjcenter\\learning\\python-learning\\basic\\py005_例外.ipynb\n"
     ]
    }
   ],
   "source": [
    "current_dir = Path.cwd()\n",
    "# 获取用户的主目录\n",
    "home_dir = Path.home()\n",
    "dir_1 = home_dir / \"Prjcenter\"\n",
    "file_1 = current_dir / \"pathlib类.ipynb\"\n",
    "\n",
    "print(f\"当前运行目录：{current_dir}\")\n",
    "print(dir_1)\n",
    "\n",
    "# 获得路径的不同部分\n",
    "print(f\"父目录：{dir_1.parent}\")\n",
    "print(f\"文件名/目录名：{dir_1.name}\")\n",
    "print(f\"文件名：{file_1.stem}\")\n",
    "print(f\"文件后缀：{file_1.suffix}\")\n",
    "\n",
    "# 检查路径是否存在\n",
    "print(f\"{file_1} exists?: {file_1.exists()}\")\n",
    "print(f\"{file_1} is a file?: {file_1.is_file()}\")\n",
    "\n",
    "# 列出目录下的所有文件和子目录\n",
    "for item in current_dir.iterdir():\n",
    "    print(item)\n"
   ]
  }
 ],
 "metadata": {
  "kernelspec": {
   "display_name": ".venv",
   "language": "python",
   "name": "python3"
  },
  "language_info": {
   "codemirror_mode": {
    "name": "ipython",
    "version": 3
   },
   "file_extension": ".py",
   "mimetype": "text/x-python",
   "name": "python",
   "nbconvert_exporter": "python",
   "pygments_lexer": "ipython3",
   "version": "3.12.11"
  }
 },
 "nbformat": 4,
 "nbformat_minor": 5
}
