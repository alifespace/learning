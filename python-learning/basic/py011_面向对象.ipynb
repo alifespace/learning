{
 "cells": [
  {
   "cell_type": "code",
   "execution_count": 9,
   "id": "73626f37",
   "metadata": {},
   "outputs": [
    {
     "name": "stdout",
     "output_type": "stream",
     "text": [
      "<class '__main__.Point'>\n",
      "True\n",
      "1 0\n",
      "Point(1, 0)\n",
      "{'x': 1, 'y': 0}\n",
      "10\n",
      "red\n",
      "black\n",
      "red\n",
      "red\n",
      "black\n",
      "blue\n",
      "blue\n"
     ]
    }
   ],
   "source": [
    "class Point():\n",
    "    default_color = \"red\"\n",
    "\n",
    "    def __init__(self, x = 0, y = 0):\n",
    "        self.x = x\n",
    "        self.y = y\n",
    "\n",
    "    def draw(self):\n",
    "        print(f\"Point({self.x}, {self.y})\")\n",
    "\n",
    "\n",
    "p1 = Point(1)\n",
    "print(type(p1))\n",
    "print(isinstance(p1, Point))\n",
    "print(p1.x, p1.y)\n",
    "p1.draw()\n",
    "print(p1.__dict__)\n",
    "p1.z = 10\n",
    "print(p1.z)\n",
    "print(p1.default_color)\n",
    "\n",
    "# 一旦实例修改了类属性，该类属性会变成实例状态\n",
    "p1.default_color = \"black\"\n",
    "print(p1.default_color)\n",
    "\n",
    "p2 = Point(1, 2)\n",
    "print(p2.default_color)\n",
    "print(Point.default_color)\n",
    "Point.default_color = \"blue\"\n",
    "\n",
    "print(p1.default_color)\n",
    "print(p2.default_color)\n",
    "print(p1.__class__.default_color)"
   ]
  }
 ],
 "metadata": {
  "kernelspec": {
   "display_name": ".venv",
   "language": "python",
   "name": "python3"
  },
  "language_info": {
   "codemirror_mode": {
    "name": "ipython",
    "version": 3
   },
   "file_extension": ".py",
   "mimetype": "text/x-python",
   "name": "python",
   "nbconvert_exporter": "python",
   "pygments_lexer": "ipython3",
   "version": "3.12.11"
  }
 },
 "nbformat": 4,
 "nbformat_minor": 5
}
