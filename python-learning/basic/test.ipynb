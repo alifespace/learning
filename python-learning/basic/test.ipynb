{
 "cells": [
  {
   "cell_type": "code",
   "execution_count": 4,
   "id": "cd546ca9",
   "metadata": {},
   "outputs": [],
   "source": [
    "import sqlite3\n",
    "\n",
    "\n",
    "conn = sqlite3.connect('example.sqlite3')\n",
    "c = conn.cursor()\n",
    "c.execute(\"\"\"CREATE TABLE students (\n",
    "          FIRST text,\n",
    "          LAST text,\n",
    "          AGE INT,\n",
    "          EMAIL text,\n",
    "          ID VARCHAR\n",
    "          )\"\"\")\n",
    "conn.close()"
   ]
  },
  {
   "cell_type": "code",
   "execution_count": 8,
   "id": "6bfb0411",
   "metadata": {},
   "outputs": [],
   "source": [
    "conn = sqlite3.connect('example.sqlite3')\n",
    "\n",
    "c = conn.cursor()\n",
    "c.execute(\"\"\"\n",
    "          INSERT INTO students (FIRST, LAST, AGE, EMAIL, ID)\n",
    "          VALUES('Jean', 'Paul', 32, 'JP@HOTMAIL.COM', 1);\n",
    "        \"\"\")\n",
    "c.execute(\"\"\"\n",
    "          INSERT INTO students (FIRST, LAST, AGE, EMAIL, ID)\n",
    "          VALUES('Sandra', 'Allen', 25, 'SA@HOTMAIL.COM', 2);\n",
    "          \"\"\")\n",
    "c.execute(\"\"\"\n",
    "          INSERT INTO students(FIRST, LAST, AGE, EMAIL, ID)\n",
    "          VALUES('Salma', 'Teddy', 23, 'ST@HOTMAIL.COM', 3);\n",
    "          \"\"\")\n",
    "c.execute(\"\"\"\n",
    "          INSERT INTO students(FIRST, LAST, AGE, EMAIL, ID)\n",
    "          VALUES('Zack', 'Mark', 25, 'ZM@HOTMAIL.COM', 4);\n",
    "          \"\"\")\n",
    "\n",
    "conn.commit()\n",
    "conn.close()"
   ]
  },
  {
   "cell_type": "code",
   "execution_count": 10,
   "id": "aa588ef9",
   "metadata": {},
   "outputs": [
    {
     "name": "stdout",
     "output_type": "stream",
     "text": [
      "c:\\Users\\jamesliuwj\\Prjcenter\\learning\n"
     ]
    }
   ],
   "source": [
    "import pyprojroot\n",
    "\n",
    "\n",
    "root = pyprojroot.find_root(pyprojroot.has_file(\".env\"))\n",
    "print(root)"
   ]
  }
 ],
 "metadata": {
  "kernelspec": {
   "display_name": ".venv",
   "language": "python",
   "name": "python3"
  },
  "language_info": {
   "codemirror_mode": {
    "name": "ipython",
    "version": 3
   },
   "file_extension": ".py",
   "mimetype": "text/x-python",
   "name": "python",
   "nbconvert_exporter": "python",
   "pygments_lexer": "ipython3",
   "version": "3.12.11"
  }
 },
 "nbformat": 4,
 "nbformat_minor": 5
}
