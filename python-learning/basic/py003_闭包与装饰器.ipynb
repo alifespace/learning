{
 "cells": [
  {
   "cell_type": "markdown",
   "metadata": {
    "id": "nJ22C75Si7VN"
   },
   "source": [
    "# 1. 为什么引入闭包（Closure）？\n",
    "\n",
    "我们在软件开发中常常需要面对这样的问题：函数需要记住某些上下文（如计数器、配置参数等），但函数默认不具备记忆能力。传统的解决方案是使用全局变量，但是这样容易引发命名冲突和不可控的修改。而闭包的出现，能让函数记住“外部变量”，实现了状态的封装。\n",
    "\n",
    "假设我们想要创建一个计数器，每次调用时都能递增该计数器。如果没有闭包，我们一般使用一个全局变量来保存计数器的值。"
   ]
  },
  {
   "cell_type": "markdown",
   "metadata": {
    "id": "u0p05oBUkx9X"
   },
   "source": [
    "## 1.1 不使用闭包的解决方案"
   ]
  },
  {
   "cell_type": "code",
   "execution_count": 2,
   "metadata": {
    "colab": {
     "base_uri": "https://localhost:8080/"
    },
    "executionInfo": {
     "elapsed": 7,
     "status": "ok",
     "timestamp": 1748900076986,
     "user": {
      "displayName": "Liu Wenjie",
      "userId": "05015053855381031931"
     },
     "user_tz": 420
    },
    "id": "SRuP5cvCCrk4",
    "outputId": "34ef6e1b-e21e-45ee-8e84-871f8c48be52"
   },
   "outputs": [
    {
     "name": "stdout",
     "output_type": "stream",
     "text": [
      "increment: 1\n",
      "increment: 2\n",
      "increment: 3\n"
     ]
    }
   ],
   "source": [
    "count = 0\n",
    "\n",
    "def increment():\n",
    "  global count\n",
    "  count += 1\n",
    "  print(f\"increment: {count}\")\n",
    "\n",
    "increment()\n",
    "increment()\n",
    "increment()"
   ]
  },
  {
   "cell_type": "markdown",
   "metadata": {
    "id": "9Dd6_TGZkZgA"
   },
   "source": [
    "以上方案存在的问题是：\n",
    "- 使用全局变量可能导致代码难以维护，其他函数如果更改了这个变量，将会导致程序逻辑出现问题；\n",
    "- 如果我们要创建多个计数器，我们要使用多个全局变量和计数器函数；"
   ]
  },
  {
   "cell_type": "markdown",
   "metadata": {
    "id": "gQBrG1SCk-Hu"
   },
   "source": [
    "## 1.2 使用闭包的解决方案"
   ]
  },
  {
   "cell_type": "markdown",
   "metadata": {
    "id": "PnZt2qt_lQRN"
   },
   "source": [
    "使用闭包，我们可以创建一个函数，内部维护这个计数器的数值，外部函数返回一个内部函数，这个内部函数可以访问这个外部函数的变量。其中下面代码中的`nolocal`用于在嵌套函数`increment()`中修改外层函数中的变量。如果没有`nolocal`，嵌套函数中的变量会被视为局部变量，无法直接修改外层函数的变量。"
   ]
  },
  {
   "cell_type": "code",
   "execution_count": 1,
   "metadata": {
    "colab": {
     "base_uri": "https://localhost:8080/"
    },
    "executionInfo": {
     "elapsed": 10,
     "status": "ok",
     "timestamp": 1748900543725,
     "user": {
      "displayName": "Liu Wenjie",
      "userId": "05015053855381031931"
     },
     "user_tz": 420
    },
    "id": "G51S3IqllfXB",
    "outputId": "d83325d6-275d-4de2-d68e-5ca56f637732"
   },
   "outputs": [
    {
     "name": "stdout",
     "output_type": "stream",
     "text": [
      "increment: 1\n",
      "increment: 2\n",
      "increment: 3\n",
      "******************************\n",
      "increment: 1\n",
      "increment: 2\n",
      "increment: 3\n"
     ]
    }
   ],
   "source": [
    "def create_counter():\n",
    "  count = 0\n",
    "\n",
    "  def increment():\n",
    "    nonlocal count\n",
    "    count += 1\n",
    "    print(f\"increment: {count}\")\n",
    "\n",
    "  return increment\n",
    "\n",
    "c1 = create_counter()\n",
    "c1()\n",
    "c1()\n",
    "c1()\n",
    "print(\"*\" * 30)\n",
    "\n",
    "c2 = create_counter()\n",
    "c2()\n",
    "c2()\n",
    "c2()"
   ]
  },
  {
   "cell_type": "markdown",
   "metadata": {
    "id": "6_yeu1RPmzyp"
   },
   "source": [
    "### 优势：\n",
    "\n",
    "- 每个计数器的实例都有自己独立的状态，不会相互干扰；\n",
    "- 避免了全局变量的使用，更加安全和可靠；"
   ]
  },
  {
   "cell_type": "markdown",
   "metadata": {
    "id": "DVRSKij4nUAK"
   },
   "source": [
    "# 2. 闭包详解"
   ]
  },
  {
   "cell_type": "markdown",
   "metadata": {
    "id": "SRHAzbLVnY7h"
   },
   "source": [
    "## 2.1 闭包概念\n",
    "\n",
    "闭包是由函数及其引用环境（外层作用域的变量）组成的实体，其核心是跨作用域保留上下文。**闭包（Closure）不是指的内函数本身，而是指内函数和它所引用的外部（非全局）作用域中的变量的组合。**\n",
    "\n",
    "更准确地说：\n",
    "\n",
    "- 内函数（Inner Function）：这是指定义在另一个函数（外函数）内部的函数；\n",
    "- 闭包（Closure）：当内函数被返回到其定义的外函数之外执行时，并且该内函数引用了外函数作用域中的非全局变量，那么这个内函数以及它所“记住”或“捕获”的这些外部变量，共同构成了闭包；\n",
    "- 内函数如果没有引用外部函数的变量，这些外部函数的变量不会成为闭包的一部分；\n",
    "\n",
    "**核心思想:** 闭包的强大之处在于，即使外函数已经执行完毕并退出了它的作用域，内函数仍然能够访问并操作那些它所引用的外函数中的变量，这些变量“活着”的时间超过了外函数的生命周期。\n",
    "\n",
    "特点：\n",
    "\n",
    "- **变量封装:** 闭包内的外部变量对外不可见，避免污染全局空间；\n",
    "- **延迟绑定:** 闭包函数执行时动态读取外部变量的最新值（除非外部变量被冻结）；\n",
    "- **内存管理:** 外部变量被闭包引用时，其生命周期延长至闭包销毁；\n"
   ]
  },
  {
   "cell_type": "markdown",
   "metadata": {
    "id": "rdt8AqGmnnYb"
   },
   "source": [
    "### 底层机制\n",
    "\n",
    "- python 通过`__closure__`属性存储闭包变量（类型为 cell 对象）；\n",
    "- 查看闭包的内容；"
   ]
  },
  {
   "cell_type": "code",
   "execution_count": 22,
   "metadata": {
    "colab": {
     "base_uri": "https://localhost:8080/"
    },
    "executionInfo": {
     "elapsed": 42,
     "status": "ok",
     "timestamp": 1748902091664,
     "user": {
      "displayName": "Liu Wenjie",
      "userId": "05015053855381031931"
     },
     "user_tz": 420
    },
    "id": "HHf4z_Q4qvhA",
    "outputId": "ad531a90-f801-467f-d2b9-d9e1bcded179"
   },
   "outputs": [
    {
     "name": "stdout",
     "output_type": "stream",
     "text": [
      "闭包一共捕获了：2个变量\n",
      "<class 'cell'> <class 'cell'>\n",
      "10\n",
      "20\n"
     ]
    }
   ],
   "source": [
    "def outer():\n",
    "  x = 10\n",
    "  y = 20\n",
    "  z = 30\n",
    "  def inner():\n",
    "    print(x)\n",
    "    print(y)\n",
    "  return inner\n",
    "\n",
    "f = outer()\n",
    "print(f\"闭包一共捕获了：{len(f.__closure__)}个变量\")\n",
    "print(type(f.__closure__[0]), type(f.__closure__[1]))\n",
    "print(f.__closure__[0].cell_contents)\n",
    "print(f.__closure__[1].cell_contents)"
   ]
  },
  {
   "cell_type": "markdown",
   "metadata": {
    "id": "ZzrbBdzRslzC"
   },
   "source": [
    "## 2.2 闭包三要素\n",
    "\n",
    "闭包的三要素：\n",
    "\n",
    "1. 函数嵌套定义（外层函数包裹内层函数）；\n",
    "2. 内层函数引用外层函数的变量；\n",
    "3. 外层函数返回内层函数；\n",
    "\n",
    "```python\n",
    "def 外层函数(参数):\n",
    "  外部变量 = 值\n",
    "\n",
    "  def 内层函数(参数):\n",
    "    引用外部变量\n",
    "    return 计算结果\n",
    "  \n",
    "  return 内层函数\n",
    "```"
   ]
  },
  {
   "cell_type": "markdown",
   "metadata": {
    "id": "svSFCoJdtvbl"
   },
   "source": [
    "## 2.3 基本案例"
   ]
  },
  {
   "cell_type": "markdown",
   "metadata": {
    "id": "iOaSpqy_t8Pr"
   },
   "source": [
    "### 案例1： 预设参数的乘法器"
   ]
  },
  {
   "cell_type": "code",
   "execution_count": 28,
   "metadata": {
    "colab": {
     "base_uri": "https://localhost:8080/"
    },
    "executionInfo": {
     "elapsed": 11,
     "status": "ok",
     "timestamp": 1748902912996,
     "user": {
      "displayName": "Liu Wenjie",
      "userId": "05015053855381031931"
     },
     "user_tz": 420
    },
    "id": "246fF8-jC6aq",
    "outputId": "5c6d5c79-8aea-45f3-ab1e-a0db00857ddc"
   },
   "outputs": [
    {
     "name": "stdout",
     "output_type": "stream",
     "text": [
      "1 multiplier_of_3: 3\n",
      "2 multiplier_of_3: 6\n",
      "3 multiplier_of_3: 3\n",
      "1 multiplier_of_5: 5\n",
      "2 multiplier_of_5: 10\n"
     ]
    }
   ],
   "source": [
    "def multiplier_factory(n):\n",
    "  def multiplier(x):\n",
    "    return x * n\n",
    "  return multiplier\n",
    "\n",
    "multiplier_of_3 = multiplier_factory(3)\n",
    "multiplier_of_5 = multiplier_factory(5)\n",
    "\n",
    "# print(len(multiplier_of_3.__closure__))\n",
    "print(f\"1 multiplier_of_3: {multiplier_of_3(1)}\")\n",
    "print(f\"2 multiplier_of_3: {multiplier_of_3(2)}\")\n",
    "print(f\"3 multiplier_of_3: {multiplier_of_3(1)}\")\n",
    "print(f\"1 multiplier_of_5: {multiplier_of_5(1)}\")\n",
    "print(f\"2 multiplier_of_5: {multiplier_of_5(2)}\")"
   ]
  },
  {
   "cell_type": "markdown",
   "metadata": {
    "id": "MSEpmWPft5u6"
   },
   "source": [
    "### 案例2: 记账软件\n",
    "\n",
    "在一个记账软件中，通过闭包实现一个“记账”函数，它会记住你的余额，并在每次消费的时候更新。"
   ]
  },
  {
   "cell_type": "code",
   "execution_count": 36,
   "metadata": {
    "colab": {
     "base_uri": "https://localhost:8080/"
    },
    "executionInfo": {
     "elapsed": 6,
     "status": "ok",
     "timestamp": 1748903946521,
     "user": {
      "displayName": "Liu Wenjie",
      "userId": "05015053855381031931"
     },
     "user_tz": 420
    },
    "id": "7tNrqvhfvODf",
    "outputId": "9331dc26-3545-48fb-84c2-faf3b82c464a"
   },
   "outputs": [
    {
     "name": "stdout",
     "output_type": "stream",
     "text": [
      "Account1:\n",
      "消费：500元，当前余额：500元\n",
      "存款：200元，当前余额：700元\n",
      "当前余额：700元\n",
      "******************************\n",
      "Account2:\n",
      "余额不足，无法消费！\n",
      "当前余额：500元\n"
     ]
    }
   ],
   "source": [
    "def create_account(initial_balance):\n",
    "  balance = initial_balance\n",
    "\n",
    "  def spend(amount):\n",
    "    nonlocal balance\n",
    "    if amount > balance:\n",
    "      print(\"余额不足，无法消费！\")\n",
    "    else:\n",
    "      balance -= amount\n",
    "      print(f\"消费：{amount}元，当前余额：{balance}元\")\n",
    "\n",
    "  def deposit(amount):\n",
    "    nonlocal balance\n",
    "    balance += amount\n",
    "    print(f\"存款：{amount}元，当前余额：{balance}元\")\n",
    "\n",
    "  def check_balance():\n",
    "    print(f\"当前余额：{balance}元\")\n",
    "\n",
    "  return {\n",
    "      \"spend\": spend,\n",
    "      \"deposit\": deposit,\n",
    "      \"check_balance\": check_balance\n",
    "  }\n",
    "\n",
    "account1 = create_account(1000)\n",
    "print(\"Account1:\")\n",
    "account1[\"spend\"](500)\n",
    "account1[\"deposit\"](200)\n",
    "account1[\"check_balance\"]()\n",
    "\n",
    "print(\"*\" * 30)\n",
    "account2 = create_account(500)\n",
    "print(\"Account2:\")\n",
    "account2[\"spend\"](600)\n",
    "account2[\"check_balance\"]()\n"
   ]
  },
  {
   "cell_type": "markdown",
   "metadata": {
    "id": "PNn-oK-5zOQj"
   },
   "source": [
    "## 2.4 应用场景\n",
    "\n",
    "虽然闭包理解起来比较抽象，但是在实际开发中应用非常广泛：\n",
    "- **状态保留:** 替代全局变量（如计数器, 游戏角色属性）；\n",
    "- **函数工厂:** 生成预设参数的函数；\n",
    "- **回调函数:** GUI事件处理中中保留上下文；"
   ]
  },
  {
   "cell_type": "markdown",
   "metadata": {
    "id": "EgMbUI55zzGc"
   },
   "source": [
    "# 3. 装饰器（Decorator）"
   ]
  },
  {
   "cell_type": "markdown",
   "metadata": {
    "id": "k6Lj_VYTz4M2"
   },
   "source": [
    "## 3.1 装饰器又是什么？\n",
    "\n",
    "闭包的核心时内层函数能够记住外层函数的变量，这种能力让函数具备了“状态保留”的特性。那么，如果我们让闭包“记住”另一个函数，并对其进行加工，会发生什么？"
   ]
  },
  {
   "cell_type": "code",
   "execution_count": 44,
   "metadata": {
    "colab": {
     "base_uri": "https://localhost:8080/"
    },
    "executionInfo": {
     "elapsed": 5,
     "status": "ok",
     "timestamp": 1748905120390,
     "user": {
      "displayName": "Liu Wenjie",
      "userId": "05015053855381031931"
     },
     "user_tz": 420
    },
    "id": "FPRLGvv50nQo",
    "outputId": "1a6f5d25-0b87-4b34-f28c-fe6a37048b29"
   },
   "outputs": [
    {
     "name": "stdout",
     "output_type": "stream",
     "text": [
      "开始执行：say_hello\n",
      "Hello!\n",
      "执行结束！\n"
     ]
    }
   ],
   "source": [
    "def log(func):\n",
    "  def wrapper():\n",
    "    print(f\"开始执行：{func.__name__}\")\n",
    "    func()\n",
    "    print(\"执行结束！\")\n",
    "  return wrapper\n",
    "\n",
    "def say_hello():\n",
    "  print(\"Hello!\")\n",
    "\n",
    "# 用闭包包裹函数\n",
    "wrapped_hello = log(say_hello)\n",
    "wrapped_hello()\n"
   ]
  },
  {
   "cell_type": "markdown",
   "metadata": {
    "id": "cc8yc1uE1500"
   },
   "source": [
    "在以上的例子中，wrapper是一个闭包，它记住了外层传入的 func，并在调用时添加了日志功能。\n",
    "\n",
    "为了让代码更加简洁，python 提供了 @ 语法糖，将闭包包裹过程简化为一行代码。"
   ]
  },
  {
   "cell_type": "code",
   "execution_count": 50,
   "metadata": {
    "colab": {
     "base_uri": "https://localhost:8080/"
    },
    "executionInfo": {
     "elapsed": 7,
     "status": "ok",
     "timestamp": 1748905337498,
     "user": {
      "displayName": "Liu Wenjie",
      "userId": "05015053855381031931"
     },
     "user_tz": 420
    },
    "id": "OP3HkFD_4FfF",
    "outputId": "d37a4633-0582-46ea-f773-b9e1375c0334"
   },
   "outputs": [
    {
     "name": "stdout",
     "output_type": "stream",
     "text": [
      "开始执行：say_hello\n",
      "Hello!\n",
      "执行结束！\n"
     ]
    }
   ],
   "source": [
    "def log(func):\n",
    "  def wrapper():\n",
    "    print(f\"开始执行：{func.__name__}\")\n",
    "    func()\n",
    "    print(\"执行结束！\")\n",
    "  return wrapper\n",
    "\n",
    "@log    # 语法糖等价于 say_hello = log(say_hello)\n",
    "def say_hello():\n",
    "  print(\"Hello!\")\n",
    "\n",
    "# 用闭包包裹函数\n",
    "say_hello()"
   ]
  },
  {
   "cell_type": "markdown",
   "metadata": {
    "id": "mKze5fHc4vD7"
   },
   "source": [
    "在这个例子中，我们可以体会到装饰器的特点：\n",
    "- 闭包（wrapper）保留了原函数（func）的引用；\n",
    "- @log 语法糖自动完成闭包包裹的过程；"
   ]
  },
  {
   "cell_type": "markdown",
   "metadata": {
    "id": "8A1aM9Ku5FhM"
   },
   "source": [
    "## 3.2 装饰器详解\n",
    "\n",
    "装饰器是一种语法糖，其本质是接受函数作为参数的高阶函数，用于动态修改或者增强函数的行为，遵循开放-封闭原则（对扩展开、对修改封闭）。\n",
    "\n",
    "特点：\n",
    "- **非侵入式:** 不修改原函数代码和调用方式；\n",
    "- **可堆叠:** 多个装饰器可叠加使用；\n",
    "- **动态性:** 装饰器行为在函数定义时即时生效；\n",
    "\n",
    "**装饰器的本质**\n",
    "\n",
    "```python\n",
    "@timer\n",
    "def computation(n):\n",
    "    ...\n",
    "```\n",
    "\n",
    "它的底层等于：\n",
    "\n",
    "```python\n",
    "def computation(n):\n",
    "    ...\n",
    "computation = timer(computation)\n",
    "```\n",
    "\n",
    "也就是：\n",
    "- 你定义了一个原始的 computation 函数；\n",
    "- 然后用 timer(computation) 得到一个新函数 wrapper；\n",
    "- 最后 用这个 wrapper 替换掉了原来的 computation；"
   ]
  },
  {
   "cell_type": "markdown",
   "metadata": {
    "id": "mW1dWaZ26Uhy"
   },
   "source": [
    "## 3.3 具体语法\n",
    "\n",
    "基础形式：\n",
    "```python\n",
    "def decorator(func):\n",
    "  def wrapper(*args, **kwargs):\n",
    "    # 前置的增强逻辑\n",
    "\n",
    "    result = func(*args, **kwargs)\n",
    "    \n",
    "    # 后置的增强逻辑\n",
    "    return result\n",
    "  return wrapper\n",
    "\n",
    "@decorator\n",
    "def func():\n",
    "  # 函数体\n",
    "```\n",
    "\n",
    "保留元信息：\n",
    "\n",
    "使用`functiontools.wraps`避免函数名等元数据丢失。\n",
    "```python\n",
    "from functools import wraps\n",
    "\n",
    "def decorator(func):\n",
    "  @wraps(func)\n",
    "  def wrapper(*args, **kwargs):\n",
    "    return func(*args, **kwargs)\n",
    "  return wrapper\n",
    "```\n",
    "\n",
    "参数化装饰器：\n",
    "当装饰器需要接收参数时，需通过三层闭包实现。\n",
    "```python\n",
    "def repeat(n):\n",
    "  def decorator(func):               # 外层闭包记住参数n\n",
    "    def wrapper(*args, **kwargs):    # 内层闭包记住func\n",
    "      for _ in range(n):\n",
    "        func(*args, **kwargs)\n",
    "      return wrapper\n",
    "    return decorator\n",
    "\n",
    "```"
   ]
  },
  {
   "cell_type": "markdown",
   "metadata": {
    "id": "cDuK98IX8krS"
   },
   "source": [
    "## 3.4 具体案例\n",
    "\n",
    "以下通过几个具体的案例，来看看装饰器的用法。"
   ]
  },
  {
   "cell_type": "markdown",
   "metadata": {
    "id": "DMaZz5ct8skg"
   },
   "source": [
    "### 案例1：函数耗时统计器，自动测量函数执行的时间，用于性能分析。"
   ]
  },
  {
   "cell_type": "code",
   "execution_count": 70,
   "metadata": {
    "colab": {
     "base_uri": "https://localhost:8080/"
    },
    "executionInfo": {
     "elapsed": 890,
     "status": "ok",
     "timestamp": 1748908688469,
     "user": {
      "displayName": "Liu Wenjie",
      "userId": "05015053855381031931"
     },
     "user_tz": 420
    },
    "id": "ZZsMbuLq825l",
    "outputId": "b46630b3-3b43-4749-b6c4-336609dcc1df"
   },
   "outputs": [
    {
     "name": "stdout",
     "output_type": "stream",
     "text": [
      "computation耗时：0.9080秒\n",
      "wrapper\n"
     ]
    }
   ],
   "source": [
    "import time\n",
    "from functools import wraps\n",
    "\n",
    "def timer(func):\n",
    "  # @wraps(func)\n",
    "  def wrapper(*args, **kwargs):\n",
    "    start = time.perf_counter()\n",
    "    result = func(*args, **kwargs)\n",
    "    elapsed = time.perf_counter() - start\n",
    "    print(f\"{func.__name__}耗时：{elapsed:.4f}秒\")\n",
    "    return result\n",
    "  return wrapper\n",
    "\n",
    "@timer\n",
    "def computation(n):\n",
    "  return sum(i*i for i in range(n))\n",
    "\n",
    "computation(10**7)\n",
    "print(f\"{computation.__name__}\")"
   ]
  }
 ],
 "metadata": {
  "colab": {
   "authorship_tag": "ABX9TyOSkfE+UQyffoIgDdXFq/5j",
   "provenance": []
  },
  "kernelspec": {
   "display_name": ".venv",
   "language": "python",
   "name": "python3"
  },
  "language_info": {
   "codemirror_mode": {
    "name": "ipython",
    "version": 3
   },
   "file_extension": ".py",
   "mimetype": "text/x-python",
   "name": "python",
   "nbconvert_exporter": "python",
   "pygments_lexer": "ipython3",
   "version": "3.12.11"
  }
 },
 "nbformat": 4,
 "nbformat_minor": 0
}
